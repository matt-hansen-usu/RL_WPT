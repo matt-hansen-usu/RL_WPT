{
 "cells": [
  {
   "cell_type": "code",
   "execution_count": 1,
   "id": "55977c16-ee1f-419d-a910-d0e29b403b01",
   "metadata": {
    "executionInfo": {
     "elapsed": 3930,
     "status": "ok",
     "timestamp": 1670523868592,
     "user": {
      "displayName": "Matthew Hansen",
      "userId": "15433491006706549793"
     },
     "user_tz": 420
    },
    "id": "55977c16-ee1f-419d-a910-d0e29b403b01"
   },
   "outputs": [
    {
     "name": "stdout",
     "output_type": "stream",
     "text": [
      "cuda\n"
     ]
    }
   ],
   "source": [
    "import numpy as np\n",
    "import torch\n",
    "import torch.nn.functional as F\n",
    "import matplotlib.pyplot as plt\n",
    "import pickle\n",
    "from tqdm import tqdm\n",
    "hist_size = 20\n",
    "device = torch.device(\"cuda\" if torch.cuda.is_available() else \"cpu\")\n",
    "print(device)\n",
    "torch.cuda.empty_cache()\n",
    "#Better average, 1 training epoch, less noise, tweak on range"
   ]
  },
  {
   "cell_type": "code",
   "execution_count": 2,
   "id": "bbf00b58-4657-4eb3-bbeb-cf2de231b45c",
   "metadata": {
    "executionInfo": {
     "elapsed": 4,
     "status": "ok",
     "timestamp": 1670523868592,
     "user": {
      "displayName": "Matthew Hansen",
      "userId": "15433491006706549793"
     },
     "user_tz": 420
    },
    "id": "bbf00b58-4657-4eb3-bbeb-cf2de231b45c"
   },
   "outputs": [],
   "source": [
    "class my_roll():\n",
    "    def __init__(self, array, max_len):\n",
    "        self.array = array\n",
    "        self.max_len = int(max_len)\n",
    "        \n",
    "    def append(self, element): #Newest on top\n",
    "        if self.array.shape[0] >= self.max_len:\n",
    "            self.array = torch.roll(self.array, 1, 0)\n",
    "            try:\n",
    "                self.array[0] = element\n",
    "            except:\n",
    "                self.array[0, :] = element\n",
    "        else:\n",
    "            shp = (-1,) + self.array.size()[1:]\n",
    "            self.array = torch.cat((torch.reshape(element, shp), self.array))"
   ]
  },
  {
   "cell_type": "code",
   "execution_count": 3,
   "id": "271a015d-9fb7-4bfe-a3f9-9d207c90b530",
   "metadata": {
    "executionInfo": {
     "elapsed": 4,
     "status": "ok",
     "timestamp": 1670523868593,
     "user": {
      "displayName": "Matthew Hansen",
      "userId": "15433491006706549793"
     },
     "user_tz": 420
    },
    "id": "271a015d-9fb7-4bfe-a3f9-9d207c90b530"
   },
   "outputs": [],
   "source": [
    "class WPTsystem():\n",
    "    def __init__(self, hist_size):\n",
    "        self.hist_size = hist_size\n",
    "        Ls = 9.998011536905373e-06\n",
    "        Cp = 3.506620587986060e-07\n",
    "        Cs = 9.416255285594627e-07\n",
    "        LcP= 1.372127859274546e-05\n",
    "        LcS= 2.600000000000000e-05\n",
    "        Csec=1.500000000000000e-07\n",
    "        R = 1.25\n",
    "        k = 0.3\n",
    "        M = k * np.sqrt(LcS * LcP)\n",
    "        Z = M**2 - LcP * LcS\n",
    "        R_par = 15e-3\n",
    "        self.Vpri = 40\n",
    "        self.B = torch.zeros((6, 1))\n",
    "        self.B[0, 0] = self.Vpri/Ls\n",
    "        self.A = torch.zeros((6, 6))\n",
    "        self.A[0, 0] = -R_par / Ls\n",
    "        self.A[0, 1] = -1/Ls\n",
    "        self.A[1, 0] = 1/Cp\n",
    "        self.A[1, 3] = -1/Cp\n",
    "        self.A[2, 3] = 1/Cs\n",
    "        self.A[3, 1] = -LcS/Z\n",
    "        self.A[3, 2] = LcS/Z\n",
    "        self.A[3, 3] = LcS * R_par/Z\n",
    "        self.A[3, 4] = -M*(R+R_par)/Z\n",
    "        self.A[3, 5] = M/Z\n",
    "        self.A[4, 1] = M/Z\n",
    "        self.A[4, 2] = -M/Z\n",
    "        self.A[4, 3] = -M*R_par/Z\n",
    "        self.A[4, 4] = LcP * (R+R_par)/Z\n",
    "        self.A[4, 5] = -LcP/Z\n",
    "        self.A[5, 4] = -1/Csec\n",
    "    \n",
    "        self.Ainv = torch.linalg.inv(self.A)\n",
    "        self.Ainv2= self.Ainv @ self.Ainv\n",
    "        self.AinvB = self.Ainv @ self.B\n",
    "        \n",
    "        M1 = torch.matrix_exp(0.5/85000*self.A)\n",
    "        self.hidden_state = torch.linalg.inv(M1 + torch.eye(6)) @ (M1 - torch.eye(6)) @ self.Ainv @ self.B\n",
    "        \n",
    "        self.timeT = 0\n",
    "        self.timeL = 500/45000\n",
    "        \n",
    "        self.aug_state = my_roll(torch.zeros((0, 1)), hist_size) #Shows past actions and measured outputs\n",
    "        \n",
    "        self.pow_hist = my_roll(torch.zeros((0, 2)), 2) #Get average power of last 4 outputs\n",
    "    \n",
    "    def reset(self):\n",
    "        M1 = torch.matrix_exp(0.5/85000*self.A)\n",
    "        self.hidden_state = torch.linalg.inv(M1 + torch.eye(6)) @ (M1 - torch.eye(6)) @ self.Ainv @ self.B\n",
    "        self.aug_state = my_roll(torch.zeros((0, 1)), self.hist_size) #Shows past actions and measured outputs\n",
    "        self.timeT = 0\n",
    "        self.pow_hist = my_roll(torch.zeros((0, 2)), 4) #Get average power of last 4 outputs           \n",
    "        #Observation of current during last step - nothing since we haven't begun switching\n",
    "        return self.aug_state.array.clone(), 0, False\n",
    "        \n",
    "    def step(self, act):\n",
    "        on_time = act * 1e-6 \n",
    "        phi = torch.matrix_exp(self.A * on_time)\n",
    "        phi_half = torch.matrix_exp(self.A * on_time/2)\n",
    "        \n",
    "        #phi = (self.V @ torch.exp(self.D * on_time) @ self.Vinv).real\n",
    "        \n",
    "        \n",
    "        x_half = phi @ self.hidden_state + (phi-torch.eye(6)) @ self.AinvB\n",
    "        x_full = phi @ x_half - (phi-torch.eye(6)) @ self.AinvB\n",
    "        \n",
    "        x_avg1 = (1/on_time) * (phi - torch.eye(6)) @ (self.Ainv@self.hidden_state + self.Ainv2@self.B)  + self.AinvB\n",
    "        x_avg2 = -(1/on_time) * (phi - torch.eye(6)) @ (self.Ainv@x_half - self.Ainv2@self.B)  - self.AinvB\n",
    "        x_pow = 0.5*(x_avg1[0,0]+ x_avg2[0, 0]) *  self.Vpri #Current times voltage power\n",
    "        \n",
    "        x_qua = phi_half @ self.hidden_state + (phi_half - torch.eye(6)) @ self.AinvB\n",
    "        observation0= x_qua[0, 0]\n",
    "        observation = x_half[0,0]\n",
    "        \n",
    "        \n",
    "        self.aug_state.append(on_time)\n",
    "        self.aug_state.append(observation0)\n",
    "        self.aug_state.append(observation)\n",
    "        \n",
    "        observation0= x_qua[1, 0]\n",
    "        observation = x_half[1,0]\n",
    "        \n",
    "        self.aug_state.append(observation0)\n",
    "        self.aug_state.append(observation)\n",
    "        \n",
    "        self.timeT += 2*on_time\n",
    "        \n",
    "        done = (True if self.timeT>self.timeL else False)\n",
    "        new_entry = torch.cat((act.reshape(1, 1), x_pow.reshape(1,1)), dim=0).reshape((2,))\n",
    "        self.pow_hist.append(new_entry)\n",
    "        x_pow_avg = (self.pow_hist.array[:, 0] * self.pow_hist.array[:, 1]).sum() / self.pow_hist.array[:, 0].sum()\n",
    "        \n",
    "        reward = -(x_pow_avg - 100) **2 * on_time*1e3\n",
    "        self.hidden_state = x_full\n",
    "        return self.aug_state.array.clone(), reward.detach(), done, x_pow_avg.detach()\n",
    "environment = WPTsystem(hist_size = hist_size)"
   ]
  },
  {
   "cell_type": "code",
   "execution_count": 4,
   "id": "d38ffaec-119c-4171-8211-7f0587be5756",
   "metadata": {
    "executionInfo": {
     "elapsed": 252,
     "status": "ok",
     "timestamp": 1670523868841,
     "user": {
      "displayName": "Matthew Hansen",
      "userId": "15433491006706549793"
     },
     "user_tz": 420
    },
    "id": "d38ffaec-119c-4171-8211-7f0587be5756"
   },
   "outputs": [],
   "source": [
    "class actor(torch.nn.Module):\n",
    "    def __init__(self, augmented_in_space, out_space, req_grad):\n",
    "        super(actor, self).__init__()\n",
    "        self.l1 = torch.nn.Linear(augmented_in_space, 64)\n",
    "        self.l2 = torch.nn.Linear(64, 100)\n",
    "        self.l3 = torch.nn.Linear(100, out_space)\n",
    "        self.req_grad = req_grad\n",
    "    \n",
    "    def forward(self, net_inputs):\n",
    "        x = F.relu(self.l1(net_inputs))\n",
    "        x = F.relu(self.l2(x))\n",
    "        if self.req_grad:\n",
    "            x = self.l3(x)\n",
    "        else:\n",
    "            x = self.l3(x).detach()\n",
    "        return x\n",
    "\n",
    "class critic(torch.nn.Module):\n",
    "    def __init__(self, augmented_in_space, req_grad):\n",
    "        super(critic, self).__init__()\n",
    "        #Use a single value in combination with the two\n",
    "        self.l1 = torch.nn.Linear(augmented_in_space+1, 200)\n",
    "        self.l2 = torch.nn.Linear(200, 400)\n",
    "        self.l3 = torch.nn.Linear(400, 1)\n",
    "        self.req_grad = req_grad\n",
    "        \n",
    "    def forward(self, augmented_input, action):\n",
    "        x = torch.cat((augmented_input, action), dim=1) #This is good for pooling\n",
    "        x = F.relu(self.l1(x))\n",
    "        x = F.relu(self.l2(x))\n",
    "        if self.req_grad:\n",
    "            x = self.l3(x)\n",
    "        else:\n",
    "            x = self.l3(x).detach()\n",
    "        return x"
   ]
  },
  {
   "cell_type": "code",
   "execution_count": 5,
   "id": "1573b425-c571-4576-9baa-9b9f5ad2d74f",
   "metadata": {
    "executionInfo": {
     "elapsed": 5,
     "status": "ok",
     "timestamp": 1670523868841,
     "user": {
      "displayName": "Matthew Hansen",
      "userId": "15433491006706549793"
     },
     "user_tz": 420
    },
    "id": "1573b425-c571-4576-9baa-9b9f5ad2d74f"
   },
   "outputs": [],
   "source": [
    "def model_update(tau, target_net, source_net):\n",
    "    #Makes the first look like the second\n",
    "    for target_param, source_param in zip(target_net.parameters(), source_net.parameters()):\n",
    "        target_param.data.copy_(tau*source_param.data + target_param.data*(1.0 - tau))\n",
    "    return"
   ]
  },
  {
   "cell_type": "code",
   "execution_count": 6,
   "id": "80bc66b5-eb0f-499c-9139-4212fa3347b9",
   "metadata": {
    "executionInfo": {
     "elapsed": 6,
     "status": "ok",
     "timestamp": 1670523868842,
     "user": {
      "displayName": "Matthew Hansen",
      "userId": "15433491006706549793"
     },
     "user_tz": 420
    },
    "id": "80bc66b5-eb0f-499c-9139-4212fa3347b9"
   },
   "outputs": [],
   "source": [
    "class control_agent():\n",
    "    def __init__(self, max_len, data_sams):\n",
    "        #max_len is the length of the replay buffers\n",
    "        #data_sams is the number of past data points we have\n",
    "        self.gamma=0.97\n",
    "        self.tau = 0.15 #Updating target\n",
    "        \n",
    "        self.actor = actor(augmented_in_space = data_sams, out_space=1, req_grad=True)\n",
    "        self.actor_target = actor(augmented_in_space = data_sams, out_space=1, req_grad=False)\n",
    "        self.critic = critic(augmented_in_space=data_sams, req_grad=True)\n",
    "        self.critic_target = critic(augmented_in_space=data_sams, req_grad=False)\n",
    "        \n",
    "        model_update(1, self.actor_target, self.actor)\n",
    "        model_update(1, self.critic_target, self.critic)   \n",
    "        \n",
    "        self.rewards = my_roll(torch.zeros((0, 1)), max_len)\n",
    "        self.prev_states = my_roll(torch.zeros((0, data_sams)), max_len)\n",
    "        self.next_states = my_roll(torch.zeros((0, data_sams)), max_len)\n",
    "        self.actions = my_roll(torch.zeros((0, 1)), max_len)\n",
    "        \n",
    "        self.critic_loss = torch.nn.MSELoss(reduction='mean')\n",
    "        self.critic_opt = torch.optim.Adam(self.critic.parameters())\n",
    "        \n",
    "        self.actor_opt = torch.optim.Adam(self.actor.parameters()) \n",
    "        self.max_len = max_len\n",
    "        self.data_sams = data_sams\n",
    "        \n",
    "    def act(self, aug_state):\n",
    "        action = self.actor.forward(aug_state)\n",
    "        return action\n",
    "    \n",
    "    def agent_clear_hist(self):\n",
    "        max_len = self.max_len\n",
    "        data_sams = self.data_sams\n",
    "        self.rewards = my_roll(torch.zeros((0, 1)), max_len)\n",
    "        self.prev_states = my_roll(torch.zeros((0, data_sams)), max_len)\n",
    "        self.next_states = my_roll(torch.zeros((0, data_sams)), max_len)\n",
    "        self.actions = my_roll(torch.zeros((0, 1)), max_len)\n",
    "        \n",
    "    def train_critic(self, epochs, batch_size):\n",
    "        max_val = self.rewards.array.shape[0]\n",
    "        for _ in range(epochs):\n",
    "            idx = np.random.permutation(range(max_val))\n",
    "            for low, high in zip(range(0, max_val - batch_size, batch_size), range(batch_size, max_val, batch_size)):\n",
    "                act_next = self.actor_target.forward(self.next_states.array[low:high])\n",
    "                yi = self.rewards.array[low:high] + self.gamma * self.critic_target.forward(self.next_states.array[low:high], act_next)\n",
    "                yi =yi.detach()\n",
    "                ins1 = self.prev_states.array[low:high].detach()\n",
    "                ins2 = self.actions.array[low:high].detach()\n",
    "                y_est = self.critic.forward(ins1, ins2)\n",
    "                loss = self.critic_loss(yi, y_est)\n",
    "                self.critic_opt.zero_grad()\n",
    "                self.actor_opt.zero_grad()\n",
    "                loss.backward()\n",
    "                self.critic_opt.step()\n",
    "        model_update(self.tau, self.critic_target, self.critic)\n",
    "        \n",
    "    def train_actor(self, epochs, batch_size, maxact, minact):\n",
    "        max_val = self.rewards.array.shape[0]\n",
    "        for _ in range(epochs):\n",
    "            idx = np.random.permutation(range(max_val))\n",
    "            for low, high in zip(range(0, max_val - batch_size, batch_size), range(batch_size, max_val, batch_size)):\n",
    "                states = self.prev_states.array[low:high].detach()\n",
    "                acts = self.actor.forward(states)\n",
    "                \n",
    "                l1 = -self.critic.forward(states, acts)\n",
    "                \n",
    "                #Get it into the range\n",
    "                l2 = (acts > maxact) * torch.pow(acts - maxact, 2)*10\n",
    "                l3 = (acts < minact) * torch.pow(acts - minact, 2)*10\n",
    "                \n",
    "                loss = torch.sum(l1) + torch.sum(l2) + torch.sum(l3)\n",
    "                self.critic_opt.zero_grad()\n",
    "                self.actor_opt.zero_grad()\n",
    "                loss.backward()\n",
    "                self.actor_opt.step()\n",
    "        model_update(self.tau, self.actor_target, self.actor)\n"
   ]
  },
  {
   "cell_type": "code",
   "execution_count": 7,
   "id": "7f29c642-eb4a-4494-bbed-fd99e672cb7e",
   "metadata": {
    "colab": {
     "base_uri": "https://localhost:8080/"
    },
    "executionInfo": {
     "elapsed": 6,
     "status": "ok",
     "timestamp": 1670523868842,
     "user": {
      "displayName": "Matthew Hansen",
      "userId": "15433491006706549793"
     },
     "user_tz": 420
    },
    "id": "7f29c642-eb4a-4494-bbed-fd99e672cb7e",
    "outputId": "bbb0e554-005a-4541-f7dc-9cacdca786df"
   },
   "outputs": [
    {
     "name": "stdout",
     "output_type": "stream",
     "text": [
      "tensor([6.7568])\n",
      "tensor([6.5789])\n"
     ]
    }
   ],
   "source": [
    "max_len = 5e3\n",
    "my_agent = control_agent(max_len, data_sams=hist_size)\n",
    "max_ac = torch.ones(1,)*(0.5/74000)*1e6\n",
    "min_ac = torch.ones(1,)*(0.5/76000)*1e6\n",
    "print(max_ac)\n",
    "print(min_ac)"
   ]
  },
  {
   "cell_type": "code",
   "execution_count": 7,
   "id": "1ba5fea7-5d95-41e6-99e1-dd6f51e96308",
   "metadata": {
    "executionInfo": {
     "elapsed": 5,
     "status": "ok",
     "timestamp": 1670523868842,
     "user": {
      "displayName": "Matthew Hansen",
      "userId": "15433491006706549793"
     },
     "user_tz": 420
    },
    "id": "1ba5fea7-5d95-41e6-99e1-dd6f51e96308"
   },
   "outputs": [],
   "source": [
    "def train_agent(min_ac, max_ac, epochs, random):\n",
    "    rewards = []\n",
    "    actions = []\n",
    "    powers = []\n",
    "    actions_og = []\n",
    "    gif_ratio = 20\n",
    "    for i in tqdm(range(epochs)):\n",
    "        if i % gif_ratio == 0:\n",
    "            power_to_gif = []\n",
    "            actions_to_gif = []\n",
    "        observation, _, done = environment.reset()\n",
    "        while not done:\n",
    "            if observation.shape[0] >= hist_size: #Log if we've cleared the startup noise\n",
    "                #Log the state before we choose the action\n",
    "                my_agent.prev_states.append(observation.reshape((-1)))\n",
    "\n",
    "                #Choose the action, make sure it's reasonable\n",
    "                action = my_agent.act(torch.flatten(observation))\n",
    "                actions_og.append(action.detach())\n",
    "                action = max(action, min_ac)\n",
    "                action = min(action, max_ac)\n",
    "\n",
    "                if random:\n",
    "                    if i < 550:\n",
    "                        i_min = np.sqrt(min(i, 400))\n",
    "                        action = torch.normal(mean=action, std=0.5*min_ac/(i_min+1))\n",
    "\n",
    "                #Act and record observation\n",
    "                observation, reward, done, power = environment.step(action)\n",
    "\n",
    "                #Now we have the action to log\n",
    "                my_agent.actions.append(action)\n",
    "\n",
    "                #And the subsequent state and reward. That is, taking action_i when we observere prev_states_i\n",
    "                #will lead to next_states_i and rewards_i\n",
    "                my_agent.next_states.append(observation.reshape((-1)))\n",
    "                my_agent.rewards.append(reward)\n",
    "\n",
    "                #Used for reporting - the others are used for training\n",
    "                rewards.append(reward.detach().numpy())\n",
    "                actions.append(action.detach().numpy())\n",
    "                powers.append(power.detach().numpy())\n",
    "                if i % gif_ratio == 0:\n",
    "                    power_to_gif.append(power.detach().numpy())\n",
    "                    actions_to_gif.append(action.detach().numpy() * 2)\n",
    "            else:\n",
    "                action = torch.rand((1,)) * (max_ac - min_ac) + max_ac\n",
    "                observation, reward, done, _ = environment.step(action)\n",
    "        #Now, update the critic\n",
    "        if i%gif_ratio == 0:\n",
    "            time = np.zeros((len(actions_to_gif),))\n",
    "            time[0] = actions_to_gif[0]\n",
    "            for k in range(1, len(actions_to_gif)):\n",
    "                time[k] = time[k-1] + actions_to_gif[k]\n",
    "            plt.clf()\n",
    "            plt.plot(time, power_to_gif)\n",
    "            plt.ylim([-100, 300])\n",
    "            plt.grid()\n",
    "            plt.xlabel(\"Episode Time [us]\")\n",
    "            plt.ylabel(\"Power Transferred [W]\")\n",
    "            plt.title('Agent Learning')\n",
    "            plt.savefig(str(i) + \"fig.png\")\n",
    "        my_agent.train_critic(epochs=1, batch_size=50)\n",
    "        my_agent.train_actor(epochs=2, batch_size=50, maxact = max_ac, minact = min_ac)\n",
    "    return rewards, actions, powers, actions_og"
   ]
  },
  {
   "cell_type": "code",
   "execution_count": 9,
   "id": "00203ccb-cc5e-4b2b-8d6d-5e94500a1f5e",
   "metadata": {
    "colab": {
     "base_uri": "https://localhost:8080/"
    },
    "id": "00203ccb-cc5e-4b2b-8d6d-5e94500a1f5e",
    "outputId": "0020e576-27c1-4959-e31b-2923b12e8290"
   },
   "outputs": [
    {
     "name": "stderr",
     "output_type": "stream",
     "text": [
      "100%|██████████████████████████████████████████████████████████████████████████████████| 10/10 [00:20<00:00,  2.08s/it]\n"
     ]
    },
    {
     "name": "stdout",
     "output_type": "stream",
     "text": [
      "tensor([7.1429])\n",
      "tensor([6.1728])\n"
     ]
    },
    {
     "name": "stderr",
     "output_type": "stream",
     "text": [
      "  0%|                                                                                          | 0/601 [00:00<?, ?it/s]C:\\Users\\A01532704\\AppData\\Local\\Temp\\ipykernel_23760\\3313443830.py:61: UserWarning: An output with one or more elements was resized since it had shape [1, 6, 6], which does not match the required output shape [1, 1, 6, 6]. This behavior is deprecated, and in a future PyTorch release outputs will not be resized unless they have zero elements. You can explicitly reuse an out tensor t by resizing it, inplace, to zero elements with t.resize_(0). (Triggered internally at  C:\\cb\\pytorch_1000000000000\\work\\aten\\src\\ATen\\native\\Resize.cpp:24.)\n",
      "  phi = torch.matrix_exp(self.A * on_time)\n",
      "C:\\Users\\A01532704\\AppData\\Local\\Temp\\ipykernel_23760\\3313443830.py:62: UserWarning: An output with one or more elements was resized since it had shape [1, 6, 6], which does not match the required output shape [1, 1, 6, 6]. This behavior is deprecated, and in a future PyTorch release outputs will not be resized unless they have zero elements. You can explicitly reuse an out tensor t by resizing it, inplace, to zero elements with t.resize_(0). (Triggered internally at  C:\\cb\\pytorch_1000000000000\\work\\aten\\src\\ATen\\native\\Resize.cpp:24.)\n",
      "  phi_half = torch.matrix_exp(self.A * on_time/2)\n",
      "100%|██████████████████████████████████████████████████████████████████████████████| 601/601 [1:42:41<00:00, 10.25s/it]\n"
     ]
    },
    {
     "data": {
      "image/png": "[encoded data removed]",
      "text/plain": [
       "<Figure size 640x480 with 1 Axes>"
      ]
     },
     "metadata": {},
     "output_type": "display_data"
    }
   ],
   "source": [
    "train_agent(min_ac, max_ac, 10, False)\n",
    "max_ac = torch.ones(1,)*(0.5/70000)*1e6\n",
    "min_ac = torch.ones(1,)*(0.5/81000)*1e6\n",
    "print(max_ac)\n",
    "print(min_ac)\n",
    "my_agent.agent_clear_hist()\n",
    "rewards, actions, powers, actions_og = train_agent(min_ac, max_ac, 601, True)"
   ]
  },
  {
   "cell_type": "code",
   "execution_count": null,
   "id": "60ee6964-0d7b-4e64-b6f1-2afcd8a9cf26",
   "metadata": {
    "id": "60ee6964-0d7b-4e64-b6f1-2afcd8a9cf26"
   },
   "outputs": [],
   "source": [
    "rewards2 = [-rew for rew in rewards]\n",
    "x = range(len(rewards))\n",
    "plt.semilogy(x, rewards2)\n",
    "plt.xlabel('Period Number')\n",
    "plt.title('Negative Rewards')\n",
    "plt.ylabel('Reward (Log Scale)')\n",
    "plt.grid()\n",
    "plt.savefig('Rewards.png')\n",
    "plt.show()\n",
    "\n",
    "n = 100\n",
    "filt = np.ones((n, )) / n\n",
    "rew_temp = np.array(rewards2).reshape((-1,))\n",
    "rewards3 = np.convolve(rew_temp, filt, 'valid')\n",
    "plt.semilogy(range(len(rewards3)), rewards3)\n",
    "plt.xlabel('Period Number')\n",
    "plt.title('Smoothed Negative Rewards')\n",
    "plt.ylabel('Reward (Log Scale)')\n",
    "plt.ylim([2, 2e3])\n",
    "plt.grid()\n",
    "plt.savefig('Rewards_smooth.png')\n",
    "plt.show()\n",
    "\n",
    "plt.plot(x, actions_og)\n",
    "plt.title('Input Actions (Untrimmed)')\n",
    "plt.grid()\n",
    "plt.xlabel('Switching Period')\n",
    "plt.ylabel('Action [$\\mu s$]')\n",
    "plt.savefig('Actions_og.png')\n",
    "plt.show()\n",
    "\n",
    "plt.plot(x, actions)\n",
    "plt.title('Switching Periods')\n",
    "plt.xlabel('Period Number')\n",
    "plt.ylabel('Switching Period')\n",
    "plt.grid()\n",
    "plt.savefig('Actions.png')\n",
    "plt.show()\n",
    "\n",
    "plt.plot(x, powers)\n",
    "plt.xlabel('Switching Period')\n",
    "plt.title('Power Transferred')\n",
    "plt.ylabel('Power Trasferred [W]')\n",
    "plt.grid()\n",
    "plt.savefig('Power_t.png')\n",
    "plt.show()\n",
    "\n",
    "p_arr = np.array(powers)\n",
    "n = 4\n",
    "filt = np.ones((n, )) / n\n",
    "p_arr = np.convolve(p_arr, filt, mode='valid')\n",
    "plt.plot(range(len(p_arr)), p_arr)\n",
    "plt.xlabel('Switching Period')\n",
    "plt.title('Power Transferred (Smoothed over 4T)')\n",
    "plt.ylabel('Power [W]')\n",
    "plt.grid()\n",
    "plt.ylim([-200, 600])\n",
    "plt.savefig('Power_t_filt.png')\n",
    "plt.show()"
   ]
  },
  {
   "cell_type": "code",
   "execution_count": 17,
   "id": "fd0249ca-92d7-4906-b6ba-4b41152f114b",
   "metadata": {
    "id": "fd0249ca-92d7-4906-b6ba-4b41152f114b"
   },
   "outputs": [],
   "source": [
    "#fwrite = open('my_agent.pkl', 'wb')\n",
    "#pickle.dump(my_agent, fwrite)\n",
    "#fwrite.close()\n",
    "#fwrite = open('train_data.pkl', 'wb')\n",
    "#pickle.dump([rewards, actions, powers, actions_og], fwrite)\n",
    "#fwrite.close()\n",
    "fread = open('my_agent.pkl', 'rb')\n",
    "my_agent = pickle.load(fread)\n",
    "fread.close()\n",
    "fread = open('train_data.pkl', 'rb')\n",
    "[rewards, actions, powers, actions_og] = pickle.load(fread)\n",
    "fread.close()\n",
    "max_ac = torch.ones(1,)*(0.5/70000)*1e6\n",
    "min_ac = torch.ones(1,)*(0.5/81000)*1e6\n",
    "#dir()"
   ]
  },
  {
   "cell_type": "code",
   "execution_count": null,
   "id": "74f11083-63e8-455f-b9f6-f89d1b94f7fd",
   "metadata": {
    "id": "74f11083-63e8-455f-b9f6-f89d1b94f7fd"
   },
   "outputs": [],
   "source": [
    "#Now, repeat the experiment but with no noise on the input values\n",
    "rewards, actions, powers, actions_og = train_agent(min_ac, max_ac, 1, False)\n",
    "rewards2 = [-rew for rew in rewards]\n",
    "rewards2 = np.array(rewards2)\n",
    "x = range(len(rewards))\n",
    "plt.clf()\n",
    "plt.semilogy(x, rewards2)\n",
    "plt.xlabel('Period Number')\n",
    "plt.title('Negative Rewards')\n",
    "plt.ylabel('Reward (Log Scale)')\n",
    "plt.ylim([1e-4, 1e3])\n",
    "plt.grid()\n",
    "plt.savefig('real_Rewards.png')\n",
    "plt.show()\n",
    "\n",
    "n = 100\n",
    "filt = np.ones((n, )) / n\n",
    "rew_temp = np.array(rewards2).reshape((-1,))\n",
    "rewards3 = np.convolve(rew_temp, filt, 'valid')\n",
    "plt.semilogy(range(len(rewards3)), rewards3)\n",
    "plt.xlabel('Period Number')\n",
    "plt.title('Smoothed Negative Rewards')\n",
    "plt.ylabel('Reward (Log Scale)')\n",
    "plt.ylim([2, 2e3])\n",
    "plt.grid()\n",
    "plt.savefig('real_Rewards_smooth.png')\n",
    "plt.show()\n",
    "\n",
    "plt.plot(x, actions_og)\n",
    "plt.title('Input Actions (Untrimmed)')\n",
    "plt.grid()\n",
    "plt.xlabel('Switching Period')\n",
    "plt.ylabel('Action [$\\mu s$]')\n",
    "plt.savefig('real_Actions_og.png')\n",
    "plt.show()\n",
    "\n",
    "plt.plot(x, actions)\n",
    "plt.title('Switching Periods')\n",
    "plt.xlabel('Period Number')\n",
    "plt.ylabel('Switching Period')\n",
    "plt.grid()\n",
    "plt.savefig('real_Actions.png')\n",
    "plt.show()\n",
    "\n",
    "plt.plot(x, powers)\n",
    "plt.xlabel('Switching Period')\n",
    "plt.title('Power Transferred')\n",
    "plt.ylabel('Power Trasferred [W]')\n",
    "plt.grid()\n",
    "plt.savefig('real_Power_t.png')\n",
    "plt.show()\n",
    "\n",
    "p_arr = np.array(powers)\n",
    "n = 4\n",
    "filt = np.ones((n, )) / n\n",
    "p_arr = np.convolve(p_arr, filt, mode='valid')\n",
    "plt.plot(range(len(p_arr)), p_arr)\n",
    "plt.xlabel('Switching Period')\n",
    "plt.title('Power Transferred (Smoothed over 4T)')\n",
    "plt.ylabel('Power [W]')\n",
    "plt.grid()\n",
    "plt.ylim([0, 200])\n",
    "plt.savefig('real_Power_t_filt.png')\n",
    "plt.show()"
   ]
  },
  {
   "cell_type": "code",
   "execution_count": 30,
   "id": "a840ff75-b80a-47c1-ab7b-1e9e1714505b",
   "metadata": {},
   "outputs": [
    {
     "name": "stdout",
     "output_type": "stream",
     "text": [
      "[7.986906e-07]\n",
      "841\n"
     ]
    }
   ],
   "source": [
    "print(min(rewards2))\n",
    "#print(np.log(rewards2))\n",
    "print(len(rewards2))"
   ]
  },
  {
   "cell_type": "code",
   "execution_count": null,
   "id": "4e414e5f-3499-4c53-a910-d2c42ee0fa74",
   "metadata": {},
   "outputs": [],
   "source": []
  }
 ],
 "metadata": {
  "accelerator": "GPU",
  "colab": {
   "provenance": []
  },
  "gpuClass": "standard",
  "kernelspec": {
   "display_name": "Python 3 (ipykernel)",
   "language": "python",
   "name": "python3"
  },
  "language_info": {
   "codemirror_mode": {
    "name": "ipython",
    "version": 3
   },
   "file_extension": ".py",
   "mimetype": "text/x-python",
   "name": "python",
   "nbconvert_exporter": "python",
   "pygments_lexer": "ipython3",
   "version": "3.10.6"
  }
 },
 "nbformat": 4,
 "nbformat_minor": 5
}
